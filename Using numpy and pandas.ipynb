{
 "cells": [
  {
   "cell_type": "code",
   "execution_count": 118,
   "metadata": {},
   "outputs": [
    {
     "data": {
      "text/plain": [
       "Text(0.5, 1.0, 'Biểu đồ diện tích')"
      ]
     },
     "execution_count": 118,
     "metadata": {},
     "output_type": "execute_result"
    },
    {
     "data": {
      "image/png": "[encoded data removed]",
      "text/plain": [
       "<Figure size 432x288 with 1 Axes>"
      ]
     },
     "metadata": {
      "needs_background": "light"
     },
     "output_type": "display_data"
    }
   ],
   "source": [
    "import matplotlib.pyplot as plt\n",
    "import pandas as pd\n",
    "import numpy as np\n",
    "\n",
    "\n",
    "path = '/Users/mac/pyfml/exercises/dientich.csv'\n",
    "columns = ['2011', '2012', '2013', '2014', '2015']\n",
    "\n",
    "raw_data = pd.read_csv(path,\n",
    "                       delimiter=';',\n",
    "                       skiprows=[0, 3],\n",
    "                       index_col=0,\n",
    "                       dtype={i: np.float64 for i in columns}).dropna()\n",
    "chart = raw_data.sort_values(['2015'], ascending=False).head(10)\n",
    "chart['2015'].plot.barh()\n",
    "plt.xlabel('Diện tích')\n",
    "plt.title('Biểu đồ diện tích')"
   ]
  },
  {
   "cell_type": "code",
   "execution_count": 120,
   "metadata": {},
   "outputs": [
    {
     "data": {
      "text/html": [
       "<div>\n",
       "<style scoped>\n",
       "    .dataframe tbody tr th:only-of-type {\n",
       "        vertical-align: middle;\n",
       "    }\n",
       "\n",
       "    .dataframe tbody tr th {\n",
       "        vertical-align: top;\n",
       "    }\n",
       "\n",
       "    .dataframe thead th {\n",
       "        text-align: right;\n",
       "    }\n",
       "</style>\n",
       "<table border=\"1\" class=\"dataframe\">\n",
       "  <thead>\n",
       "    <tr style=\"text-align: right;\">\n",
       "      <th></th>\n",
       "      <th>Price</th>\n",
       "    </tr>\n",
       "    <tr>\n",
       "      <th>Date</th>\n",
       "      <th></th>\n",
       "    </tr>\n",
       "  </thead>\n",
       "  <tbody>\n",
       "    <tr>\n",
       "      <th>2016-04-28</th>\n",
       "      <td>19.3297</td>\n",
       "    </tr>\n",
       "  </tbody>\n",
       "</table>\n",
       "</div>"
      ],
      "text/plain": [
       "              Price\n",
       "Date               \n",
       "2016-04-28  19.3297"
      ]
     },
     "execution_count": 120,
     "metadata": {},
     "output_type": "execute_result"
    }
   ],
   "source": [
    "from datetime import datetime as dt \n",
    "\n",
    "\n",
    "func = lambda x: (dt.fromtimestamp(int(x)).strftime('%d/%m/%y'))\n",
    "path_01 ='/Users/mac/pyfml/exercises/localbtcVND.csv'\n",
    "data_01 = pd.read_csv(path_01,\n",
    "                      usecols=[0, 2],\n",
    "                      index_col=0,\n",
    "                      names=['Date', 'Price'],\n",
    "                      parse_dates=[0],\n",
    "                      date_parser=func,\n",
    ")\n",
    "data_01.sort_values('Price', ascending=False).iloc[0: 1]"
   ]
  },
  {
   "cell_type": "code",
   "execution_count": null,
   "metadata": {},
   "outputs": [],
   "source": []
  }
 ],
 "metadata": {
  "kernelspec": {
   "display_name": "Python 3",
   "language": "python",
   "name": "python3"
  },
  "language_info": {
   "codemirror_mode": {
    "name": "ipython",
    "version": 3
   },
   "file_extension": ".py",
   "mimetype": "text/x-python",
   "name": "python",
   "nbconvert_exporter": "python",
   "pygments_lexer": "ipython3",
   "version": "3.7.5"
  }
 },
 "nbformat": 4,
 "nbformat_minor": 2
}
